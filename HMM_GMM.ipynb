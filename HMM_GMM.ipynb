{
 "cells": [
  {
   "cell_type": "code",
   "execution_count": 1,
   "id": "c24d9c3b",
   "metadata": {},
   "outputs": [],
   "source": [
    "import librosa\n",
    "import librosa.display\n",
    "import matplotlib.pyplot as plt\n",
    "import numpy as np\n",
    "from hmmlearn import hmm\n",
    "from scipy.io import wavfile\n",
    "import IPython\n",
    "\n",
    "np.set_printoptions(suppress=True)"
   ]
  },
  {
   "cell_type": "code",
   "execution_count": 2,
   "id": "a6877f08",
   "metadata": {},
   "outputs": [],
   "source": [
    "# Reading in the wav file for the audio signals as well as the sample_rate for calculatiosn\n",
    "sample_rate, sample = wavfile.read('Sugar.wav')"
   ]
  },
  {
   "cell_type": "code",
   "execution_count": 3,
   "id": "ef37f778",
   "metadata": {},
   "outputs": [],
   "source": [
    "# Loading the file into librosa for the Short Time Fourier Transform of the signals\n",
    "audio_data, audio_rate = librosa.load('Sugar.wav')"
   ]
  },
  {
   "cell_type": "code",
   "execution_count": 4,
   "id": "459ec470",
   "metadata": {},
   "outputs": [],
   "source": [
    "# Getting the chromgrams through Short Time Fourier Transform\n",
    "chromagrams = librosa.feature.chroma_stft(audio_data, audio_rate, norm=2, hop_length=1024, n_fft=4096)"
   ]
  },
  {
   "cell_type": "code",
   "execution_count": 5,
   "id": "a7befab0",
   "metadata": {
    "scrolled": true
   },
   "outputs": [],
   "source": [
    "# Total number of samples divided by sample_rate (samples per second) = total seconds\n",
    "song_duration = len(sample)/sample_rate\n",
    "\n",
    "# Total number of frames divided by total duration of the song = x frames per second \n",
    "frames_per_second = len(chromagrams[0])/song_duration\n",
    "\n",
    "# 1 divided by frames per second = 1 frame per x seconds\n",
    "seconds_per_frame = 1/frames_per_second"
   ]
  },
  {
   "cell_type": "code",
   "execution_count": 6,
   "id": "b3c7fc47",
   "metadata": {},
   "outputs": [
    {
     "data": {
      "text/plain": [
       "0.046435274838623815"
      ]
     },
     "execution_count": 6,
     "metadata": {},
     "output_type": "execute_result"
    }
   ],
   "source": [
    "seconds_per_frame"
   ]
  },
  {
   "cell_type": "code",
   "execution_count": 7,
   "id": "fd112cd2",
   "metadata": {
    "scrolled": true
   },
   "outputs": [
    {
     "data": {
      "image/png": "[encoded data removed]",
      "text/plain": [
       "<Figure size 432x288 with 2 Axes>"
      ]
     },
     "metadata": {
      "needs_background": "light"
     },
     "output_type": "display_data"
    }
   ],
   "source": [
    "# Deleting the rest of the 4975 frames to visualize the initial part of the song\n",
    "test = np.delete(chromagrams, np.s_[:4975], axis = 1)\n",
    "\n",
    "# Plotting the initial 34 frames. The note played is D-flat\n",
    "fig, ax = plt.subplots()\n",
    "img = librosa.display.specshow(test, y_axis='chroma', x_axis='time')\n",
    "plt.colorbar(img, ax=ax);"
   ]
  },
  {
   "cell_type": "code",
   "execution_count": 8,
   "id": "afbe381c",
   "metadata": {},
   "outputs": [],
   "source": [
    "initial_chord_start = 0.387\n",
    "final_chord_end = 232.387\n",
    "seconds_per_chord = 2"
   ]
  },
  {
   "cell_type": "code",
   "execution_count": 9,
   "id": "9e460f0a",
   "metadata": {
    "scrolled": false
   },
   "outputs": [
    {
     "name": "stdout",
     "output_type": "stream",
     "text": [
      "8.334181316788548\n",
      "5003.535900941965\n"
     ]
    }
   ],
   "source": [
    "# Calculating the first frame with sound and the last frame with sound to drop all the useless frames\n",
    "first_frame_with_sound = initial_chord_start/seconds_per_frame\n",
    "last_frame_with_sound = final_chord_end/seconds_per_frame - 1\n",
    "print(first_frame_with_sound)\n",
    "print(last_frame_with_sound)"
   ]
  },
  {
   "cell_type": "code",
   "execution_count": 10,
   "id": "203666d7",
   "metadata": {},
   "outputs": [
    {
     "data": {
      "text/plain": [
       "(4988, 12)"
      ]
     },
     "execution_count": 10,
     "metadata": {},
     "output_type": "execute_result"
    }
   ],
   "source": [
    "# Have to prepare the emission proability matrix for the HMM\n",
    "# Transposing as the current shape is number of notes x number of frames\n",
    "transposed = chromagrams.T\n",
    "\n",
    "# Dropping the frames without sound and where the chords begin\n",
    "frames_with_sound = transposed[7:-14]\n",
    "frames_with_sound.shape"
   ]
  },
  {
   "cell_type": "code",
   "execution_count": 11,
   "id": "b159708b",
   "metadata": {
    "scrolled": false
   },
   "outputs": [
    {
     "name": "stdout",
     "output_type": "stream",
     "text": [
      "43\n"
     ]
    }
   ],
   "source": [
    "total_time_elapsed = 0\n",
    "summed_array = np.zeros([12])\n",
    "Db_frames = []\n",
    "Bbm_frames = []\n",
    "Ebm_frames = []\n",
    "Gb_frames = []\n",
    "chord = 0\n",
    "overall_chord_count = 0\n",
    "frame_count = 0\n",
    "stop = 0\n",
    "\n",
    "Db = [0, 4, 8, 36, 40, 64, 68, 72]\n",
    "\n",
    "for frame in frames_with_sound:\n",
    "    total_time_elapsed += seconds_per_frame\n",
    "    if chord == 0:\n",
    "        if overall_chord_count in Db:\n",
    "            Db_frames.append(frame)\n",
    "        else:\n",
    "            Gb_frames.append(frame)\n",
    "    elif chord == 1:\n",
    "        Bbm_frames.append(frame)\n",
    "    elif chord == 2:\n",
    "        Ebm_frames.append(frame)\n",
    "    else:\n",
    "        Db_frames.append(frame)\n",
    "    frame_count += 1\n",
    "\n",
    "    if total_time_elapsed + seconds_per_frame > seconds_per_chord:\n",
    "        total_time_elapsed = 0\n",
    "        overall_chord_count += 1\n",
    "        if not stop:\n",
    "            stop = 1\n",
    "            print(frame_count)\n",
    "        \n",
    "        if chord == 0:\n",
    "            chord += 1\n",
    "        elif chord == 1:\n",
    "            chord += 1\n",
    "        elif chord == 2:\n",
    "            chord += 1\n",
    "        else:\n",
    "            chord = 0\n",
    "\n",
    "Db_frames = np.array(Db_frames)\n",
    "Bbm_frames = np.array(Bbm_frames)\n",
    "Ebm_frames = np.array(Ebm_frames)\n",
    "Gb_frames = np.array(Gb_frames)"
   ]
  },
  {
   "cell_type": "code",
   "execution_count": 12,
   "id": "16d03a6a",
   "metadata": {},
   "outputs": [
    {
     "data": {
      "text/plain": [
       "(4, 12)"
      ]
     },
     "execution_count": 12,
     "metadata": {},
     "output_type": "execute_result"
    }
   ],
   "source": [
    "Db_mean = Db_frames.mean(axis=0)\n",
    "Bbm_mean = Bbm_frames.mean(axis=0)\n",
    "Ebm_mean = Ebm_frames.mean(axis=0)\n",
    "Gb_mean = Gb_frames.mean(axis=0)\n",
    "mean_chromagrams = np.vstack((Db_mean, Bbm_mean, Ebm_mean, Gb_mean))\n",
    "mean_chromagrams.shape"
   ]
  },
  {
   "cell_type": "code",
   "execution_count": 13,
   "id": "8dc6f1c0",
   "metadata": {
    "scrolled": true
   },
   "outputs": [
    {
     "data": {
      "text/plain": [
       "(4, 12, 12)"
      ]
     },
     "execution_count": 13,
     "metadata": {},
     "output_type": "execute_result"
    }
   ],
   "source": [
    "Db_cov_mat = np.cov(Db_frames.T)\n",
    "Bbm_cov_mat = np.cov(Bbm_frames.T)\n",
    "Ebm_cov_mat = np.cov(Ebm_frames.T)\n",
    "Gb_cov_mat = np.cov(Gb_frames.T)\n",
    "cov_matrix = np.array([Db_cov_mat, Bbm_cov_mat, Ebm_cov_mat, Gb_cov_mat])\n",
    "cov_matrix.shape"
   ]
  },
  {
   "cell_type": "code",
   "execution_count": 14,
   "id": "c72b8722",
   "metadata": {
    "scrolled": false
   },
   "outputs": [
    {
     "data": {
      "text/plain": [
       "array([1, 0, 0, 0])"
      ]
     },
     "execution_count": 14,
     "metadata": {},
     "output_type": "execute_result"
    }
   ],
   "source": [
    "init_prob_mat = np.array([1, 0, 0, 0])\n",
    "init_prob_mat"
   ]
  },
  {
   "cell_type": "code",
   "execution_count": 15,
   "id": "ecb7c43a",
   "metadata": {},
   "outputs": [
    {
     "data": {
      "text/plain": [
       "array([[0.25, 0.25, 0.25, 0.25],\n",
       "       [0.25, 0.25, 0.25, 0.25],\n",
       "       [0.25, 0.25, 0.25, 0.25],\n",
       "       [0.25, 0.25, 0.25, 0.25]])"
      ]
     },
     "execution_count": 15,
     "metadata": {},
     "output_type": "execute_result"
    }
   ],
   "source": [
    "trans_prob_mat = np.ones((4, 4))\n",
    "trans_prob_mat = trans_prob_mat / np.sum(trans_prob_mat, axis=1).reshape((-1, 1))\n",
    "trans_prob_mat"
   ]
  },
  {
   "cell_type": "code",
   "execution_count": 16,
   "id": "fd6ec6b1",
   "metadata": {},
   "outputs": [],
   "source": [
    "def plot_transition_matrix(A, ax=None, xlabel='State $a_j$', ylabel='State $a_i$', title='', clim=[-6, 0], cmap='gray_r'):\n",
    "    im = plt.imshow(A, origin='upper', aspect='auto', cmap=cmap)\n",
    "    im.set_clim([0, 1])\n",
    "    cbar = plt.colorbar(im)\n",
    "    plt.xlabel(xlabel)\n",
    "    plt.ylabel(ylabel)\n",
    "    plt.title(title)\n",
    "    cbar.ax.set_ylabel('Probability')\n",
    "    \n",
    "    chroma_label = ['Db', 'Bbm', 'Ebm', 'Gb']\n",
    "    chord_labels = chroma_label\n",
    "    \n",
    "    plt.xticks(np.arange(4), labels=chroma_label )\n",
    "    plt.yticks(np.arange(4), labels=chord_labels)\n",
    "    return im"
   ]
  },
  {
   "cell_type": "code",
   "execution_count": 17,
   "id": "be144ba2",
   "metadata": {},
   "outputs": [
    {
     "data": {
      "text/plain": [
       "<matplotlib.image.AxesImage at 0x2845e1028e0>"
      ]
     },
     "execution_count": 17,
     "metadata": {},
     "output_type": "execute_result"
    },
    {
     "data": {
      "image/png": "[encoded data removed]",
      "text/plain": [
       "<Figure size 432x288 with 2 Axes>"
      ]
     },
     "metadata": {
      "needs_background": "light"
     },
     "output_type": "display_data"
    }
   ],
   "source": [
    "plot_transition_matrix(trans_prob_mat)"
   ]
  },
  {
   "cell_type": "code",
   "execution_count": 18,
   "id": "0ec953a7",
   "metadata": {
    "scrolled": true
   },
   "outputs": [],
   "source": [
    "model = hmm.GaussianHMM(n_components=4, covariance_type='full',init_params='')\n",
    "model.startprob_ = init_prob_mat\n",
    "model.transmat_ = trans_prob_mat\n",
    "model.means_ = mean_chromagrams\n",
    "model.covars_ = cov_matrix"
   ]
  },
  {
   "cell_type": "code",
   "execution_count": 19,
   "id": "c1eb5f9b",
   "metadata": {},
   "outputs": [
    {
     "name": "stdout",
     "output_type": "stream",
     "text": [
      "[0 0 0 0 3 3 3 3 3 3 3 3 3 3 2 1 1 3 1 0 3 3 3 3 0 2 3 3 3 3 1 3 3 3 3 1 3\n",
      " 3 3 3 3 3 3 3 3 0 1 1 1 1 1 1 1 1 1 1 1 1 1 1 1 1 0 1 1 1 1 1 2 2 3 3 1 1\n",
      " 3 3 3 3 1 1 3 3 3 3 3 3 3 1 0 0 2 2 2 2 2 2 2 2 2 2 2 1 1 1 1 0 1 1 2 2 1\n",
      " 2 2 2 3 3 2 2 2 2 2 0 0 0 0 0 0 0 0 0 0 0 0 0 0 0 0 0 0 0 0 0 0 0 0 0 0 2\n",
      " 0 0 0 0 0 0 1 0 0 0 0 2 2 0 0 0 0 0 1 1 1 1 1 1 1 1 0 0 0 3 3 3 3 3 3 3 3\n",
      " 3 3 1 1 3 1 0 3 3 3 3 3 2 2 3 3 3 3 3 3 3 1 3 3 3 3 1 3 3 1 1 1 0 0 1 1 1\n",
      " 1 1 1 1 1 1 1 1 1 1 1 0 0 1 1 1 1 1 0 3 3 3 3 3 3 3 3 3 1 3 3 3 1 3 3 1 1\n",
      " 1 0 0 0 1 3 2 2 2 2 2 2 2 0 1 1 1 0 2 1 1 1 1 1 2 2 2 2 2 2 2 2 2 2 0 0 0\n",
      " 0 2 2 2 2 2 2 2 0 0 0 0 0 0 0 0 0 0 0 0 0 0 0 2 0 0 0 0 0 0 0 1 1 0 0 0 0\n",
      " 0 0 0 0 0 1 0 0 0 0 0 0 0 2 2 2 0 3 3 3 3 3 3 3 3 1 1 3 3 0 0 0 3 3 3 3 0\n",
      " 0 0 0 3 3 3 3 3 3 1 0 0 0 0 0 0 0 0 0 0 0 1 1 1 1 1 1 1 1 1 1 1 1 3 3 3 0\n",
      " 0 1 1 1 1 0 0 1 1 2 2 2 1 1 0 3 2 2 0 1 0 2 2 2 2 2 2 2 2 2 2 2 2 2 2 2 2\n",
      " 2 2 2 2 2 0 0 2 2 2 2 0 0 1 0 0 0 0 0 2 2 2 2 2 2 2 0 0 0 0 0 0 0 0 0 0 0\n",
      " 0 0 0 0 0 0 0 0 0 0 0 0 0 0 0 0 0 0 1 0 1 1 1 1 1 3 3 3 1 1 0 0 0 0 0]\n"
     ]
    }
   ],
   "source": [
    "first_predictions = frames_with_sound[516:1032]\n",
    "estimations = model.predict(first_predictions)\n",
    "print(estimations)"
   ]
  },
  {
   "cell_type": "code",
   "execution_count": 20,
   "id": "467e122e",
   "metadata": {},
   "outputs": [],
   "source": [
    "state_number_to_chord = {0:'Db', 1:'Bbm', 2:'Ebm', 3:'Gb'}"
   ]
  },
  {
   "cell_type": "code",
   "execution_count": 21,
   "id": "a3fbceab",
   "metadata": {
    "scrolled": false
   },
   "outputs": [
    {
     "name": "stdout",
     "output_type": "stream",
     "text": [
      "['Db', 'Db', 'Db', 'Db', 'Gb', 'Gb', 'Gb', 'Gb', 'Gb', 'Gb', 'Gb', 'Gb', 'Gb', 'Gb', 'Ebm', 'Bbm', 'Bbm', 'Gb', 'Bbm', 'Db', 'Gb', 'Gb', 'Gb', 'Gb', 'Db', 'Ebm', 'Gb', 'Gb', 'Gb', 'Gb', 'Bbm', 'Gb', 'Gb', 'Gb', 'Gb', 'Bbm', 'Gb', 'Gb', 'Gb', 'Gb', 'Gb', 'Gb', 'Gb', 'Gb', 'Gb', 'Db', 'Bbm', 'Bbm', 'Bbm', 'Bbm', 'Bbm', 'Bbm', 'Bbm', 'Bbm', 'Bbm', 'Bbm', 'Bbm', 'Bbm', 'Bbm', 'Bbm', 'Bbm', 'Bbm', 'Db', 'Bbm', 'Bbm', 'Bbm', 'Bbm', 'Bbm', 'Ebm', 'Ebm', 'Gb', 'Gb', 'Bbm', 'Bbm', 'Gb', 'Gb', 'Gb', 'Gb', 'Bbm', 'Bbm', 'Gb', 'Gb', 'Gb', 'Gb', 'Gb', 'Gb', 'Gb', 'Bbm', 'Db', 'Db', 'Ebm', 'Ebm', 'Ebm', 'Ebm', 'Ebm', 'Ebm', 'Ebm', 'Ebm', 'Ebm', 'Ebm', 'Ebm', 'Bbm', 'Bbm', 'Bbm', 'Bbm', 'Db', 'Bbm', 'Bbm', 'Ebm', 'Ebm', 'Bbm', 'Ebm', 'Ebm', 'Ebm', 'Gb', 'Gb', 'Ebm', 'Ebm', 'Ebm', 'Ebm', 'Ebm', 'Db', 'Db', 'Db', 'Db', 'Db', 'Db', 'Db', 'Db', 'Db', 'Db', 'Db', 'Db', 'Db', 'Db', 'Db', 'Db', 'Db', 'Db', 'Db', 'Db', 'Db', 'Db', 'Db', 'Db', 'Db', 'Db', 'Ebm', 'Db', 'Db', 'Db', 'Db', 'Db', 'Db', 'Bbm', 'Db', 'Db', 'Db', 'Db', 'Ebm', 'Ebm', 'Db', 'Db', 'Db', 'Db', 'Db', 'Bbm', 'Bbm', 'Bbm', 'Bbm', 'Bbm', 'Bbm', 'Bbm', 'Bbm', 'Db', 'Db', 'Db', 'Gb', 'Gb', 'Gb', 'Gb', 'Gb', 'Gb', 'Gb', 'Gb', 'Gb', 'Gb', 'Bbm', 'Bbm', 'Gb', 'Bbm', 'Db', 'Gb', 'Gb', 'Gb', 'Gb', 'Gb', 'Ebm', 'Ebm', 'Gb', 'Gb', 'Gb', 'Gb', 'Gb', 'Gb', 'Gb', 'Bbm', 'Gb', 'Gb', 'Gb', 'Gb', 'Bbm', 'Gb', 'Gb', 'Bbm', 'Bbm', 'Bbm', 'Db', 'Db', 'Bbm', 'Bbm', 'Bbm', 'Bbm', 'Bbm', 'Bbm', 'Bbm', 'Bbm', 'Bbm', 'Bbm', 'Bbm', 'Bbm', 'Bbm', 'Bbm', 'Db', 'Db', 'Bbm', 'Bbm', 'Bbm', 'Bbm', 'Bbm', 'Db', 'Gb', 'Gb', 'Gb', 'Gb', 'Gb', 'Gb', 'Gb', 'Gb', 'Gb', 'Bbm', 'Gb', 'Gb', 'Gb', 'Bbm', 'Gb', 'Gb', 'Bbm', 'Bbm', 'Bbm', 'Db', 'Db', 'Db', 'Bbm', 'Gb', 'Ebm', 'Ebm', 'Ebm', 'Ebm', 'Ebm', 'Ebm', 'Ebm', 'Db', 'Bbm', 'Bbm', 'Bbm', 'Db', 'Ebm', 'Bbm', 'Bbm', 'Bbm', 'Bbm', 'Bbm', 'Ebm', 'Ebm', 'Ebm', 'Ebm', 'Ebm', 'Ebm', 'Ebm', 'Ebm', 'Ebm', 'Ebm', 'Db', 'Db', 'Db', 'Db', 'Ebm', 'Ebm', 'Ebm', 'Ebm', 'Ebm', 'Ebm', 'Ebm', 'Db', 'Db', 'Db', 'Db', 'Db', 'Db', 'Db', 'Db', 'Db', 'Db', 'Db', 'Db', 'Db', 'Db', 'Db', 'Ebm', 'Db', 'Db', 'Db', 'Db', 'Db', 'Db', 'Db', 'Bbm', 'Bbm', 'Db', 'Db', 'Db', 'Db', 'Db', 'Db', 'Db', 'Db', 'Db', 'Bbm', 'Db', 'Db', 'Db', 'Db', 'Db', 'Db', 'Db', 'Ebm', 'Ebm', 'Ebm', 'Db', 'Gb', 'Gb', 'Gb', 'Gb', 'Gb', 'Gb', 'Gb', 'Gb', 'Bbm', 'Bbm', 'Gb', 'Gb', 'Db', 'Db', 'Db', 'Gb', 'Gb', 'Gb', 'Gb', 'Db', 'Db', 'Db', 'Db', 'Gb', 'Gb', 'Gb', 'Gb', 'Gb', 'Gb', 'Bbm', 'Db', 'Db', 'Db', 'Db', 'Db', 'Db', 'Db', 'Db', 'Db', 'Db', 'Db', 'Bbm', 'Bbm', 'Bbm', 'Bbm', 'Bbm', 'Bbm', 'Bbm', 'Bbm', 'Bbm', 'Bbm', 'Bbm', 'Bbm', 'Gb', 'Gb', 'Gb', 'Db', 'Db', 'Bbm', 'Bbm', 'Bbm', 'Bbm', 'Db', 'Db', 'Bbm', 'Bbm', 'Ebm', 'Ebm', 'Ebm', 'Bbm', 'Bbm', 'Db', 'Gb', 'Ebm', 'Ebm', 'Db', 'Bbm', 'Db', 'Ebm', 'Ebm', 'Ebm', 'Ebm', 'Ebm', 'Ebm', 'Ebm', 'Ebm', 'Ebm', 'Ebm', 'Ebm', 'Ebm', 'Ebm', 'Ebm', 'Ebm', 'Ebm', 'Ebm', 'Ebm', 'Ebm', 'Ebm', 'Ebm', 'Db', 'Db', 'Ebm', 'Ebm', 'Ebm', 'Ebm', 'Db', 'Db', 'Bbm', 'Db', 'Db', 'Db', 'Db', 'Db', 'Ebm', 'Ebm', 'Ebm', 'Ebm', 'Ebm', 'Ebm', 'Ebm', 'Db', 'Db', 'Db', 'Db', 'Db', 'Db', 'Db', 'Db', 'Db', 'Db', 'Db', 'Db', 'Db', 'Db', 'Db', 'Db', 'Db', 'Db', 'Db', 'Db', 'Db', 'Db', 'Db', 'Db', 'Db', 'Db', 'Db', 'Db', 'Db', 'Bbm', 'Db', 'Bbm', 'Bbm', 'Bbm', 'Bbm', 'Bbm', 'Gb', 'Gb', 'Gb', 'Bbm', 'Bbm', 'Db', 'Db', 'Db', 'Db', 'Db']\n"
     ]
    }
   ],
   "source": [
    "num_to_chord = []\n",
    "for estimated_state in list(estimations):\n",
    "    num_to_chord.append(state_number_to_chord[estimated_state])\n",
    "\n",
    "print(num_to_chord)"
   ]
  },
  {
   "cell_type": "code",
   "execution_count": 22,
   "id": "d53f0a27",
   "metadata": {},
   "outputs": [
    {
     "data": {
      "text/plain": [
       "array([[0.25, 0.25, 0.25, 0.25],\n",
       "       [0.25, 0.25, 0.25, 0.25],\n",
       "       [0.25, 0.25, 0.25, 0.25],\n",
       "       [0.25, 0.25, 0.25, 0.25]])"
      ]
     },
     "execution_count": 22,
     "metadata": {},
     "output_type": "execute_result"
    }
   ],
   "source": [
    "model.transmat_"
   ]
  },
  {
   "cell_type": "code",
   "execution_count": 23,
   "id": "84482391",
   "metadata": {
    "scrolled": true
   },
   "outputs": [
    {
     "data": {
      "text/plain": [
       "<matplotlib.image.AxesImage at 0x2845fb288b0>"
      ]
     },
     "execution_count": 23,
     "metadata": {},
     "output_type": "execute_result"
    },
    {
     "data": {
      "image/png": "[encoded data removed]",
      "text/plain": [
       "<Figure size 432x288 with 2 Axes>"
      ]
     },
     "metadata": {
      "needs_background": "light"
     },
     "output_type": "display_data"
    }
   ],
   "source": [
    "model.fit(first_predictions)\n",
    "plot_transition_matrix(model.transmat_)"
   ]
  },
  {
   "cell_type": "code",
   "execution_count": 24,
   "id": "d2cbd6bd",
   "metadata": {},
   "outputs": [
    {
     "data": {
      "text/plain": [
       "array([[0.88163397, 0.05183486, 0.05069417, 0.015837  ],\n",
       "       [0.05127894, 0.81067103, 0.04334396, 0.09470606],\n",
       "       [0.0949799 , 0.01077962, 0.81457342, 0.07966706],\n",
       "       [0.03371356, 0.13811739, 0.01649381, 0.81167524]])"
      ]
     },
     "execution_count": 24,
     "metadata": {},
     "output_type": "execute_result"
    }
   ],
   "source": [
    "model.transmat_"
   ]
  },
  {
   "cell_type": "code",
   "execution_count": 25,
   "id": "3f85a83d",
   "metadata": {},
   "outputs": [
    {
     "name": "stdout",
     "output_type": "stream",
     "text": [
      "[0 0 0 0 3 3 3 3 3 3 3 3 3 3 3 1 1 3 1 1 3 3 3 3 0 2 2 3 3 1 1 1 3 3 3 3 3\n",
      " 3 3 3 3 3 1 1 3 1 1 1 1 1 1 1 1 1 1 1 1 1 1 1 1 1 1 1 1 1 1 0 2 2 3 3 3 3\n",
      " 3 3 3 3 3 3 3 3 3 3 3 3 1 1 0 0 2 2 2 2 2 2 2 2 2 2 2 1 1 1 1 1 1 1 1 1 1\n",
      " 2 2 2 2 3 2 2 2 2 0 0 0 0 0 0 0 0 0 0 0 0 0 0 0 0 0 0 0 0 0 0 0 0 0 0 0 0\n",
      " 0 0 0 0 0 0 0 0 0 0 0 2 2 0 0 0 0 0 1 1 1 1 1 1 1 1 0 0 0 3 3 3 3 3 3 3 3\n",
      " 3 3 1 1 3 1 1 3 3 3 3 3 2 2 3 3 3 3 3 3 3 3 3 3 3 3 1 3 3 1 1 1 0 0 1 1 1\n",
      " 1 1 1 1 1 1 1 1 1 1 1 1 1 1 1 1 1 1 2 2 3 3 3 3 3 3 3 3 3 3 3 3 1 1 3 1 1\n",
      " 1 1 1 1 1 2 2 2 2 2 2 2 2 3 3 1 1 1 1 1 1 1 1 1 2 2 2 2 2 2 2 2 2 2 0 0 0\n",
      " 0 2 2 2 2 2 2 0 0 0 0 0 0 0 0 0 0 0 0 0 0 0 0 0 0 0 0 0 0 0 0 0 0 0 0 0 0\n",
      " 0 0 1 1 1 1 0 0 0 0 0 0 0 0 0 1 1 1 3 3 3 3 3 3 3 1 1 2 3 3 1 1 3 3 3 3 0\n",
      " 0 0 1 3 3 3 3 3 3 3 0 0 0 0 0 0 0 0 0 0 1 1 1 1 1 1 1 1 1 1 1 1 1 3 3 3 1\n",
      " 1 1 1 1 1 1 1 1 1 2 2 2 0 1 3 3 0 0 1 1 0 2 2 2 2 2 2 2 2 2 2 2 2 2 2 2 2\n",
      " 2 2 2 2 2 0 0 2 2 2 2 0 0 0 0 0 0 0 0 0 2 2 2 2 2 2 0 0 0 0 0 0 0 0 0 0 0\n",
      " 0 0 0 0 0 0 0 0 0 0 0 0 0 0 0 0 0 0 0 0 0 1 1 1 1 3 3 3 3 1 0 0 0 0 0]\n"
     ]
    },
    {
     "data": {
      "text/plain": [
       "array([[0.88341071, 0.05503259, 0.04940049, 0.0121562 ],\n",
       "       [0.05068785, 0.80830458, 0.04290545, 0.09810212],\n",
       "       [0.09277932, 0.01143138, 0.81662062, 0.07916868],\n",
       "       [0.03358637, 0.14023602, 0.01672933, 0.80944829]])"
      ]
     },
     "execution_count": 25,
     "metadata": {},
     "output_type": "execute_result"
    }
   ],
   "source": [
    "estimations = model.predict(first_predictions)\n",
    "print(estimations)\n",
    "model.fit(first_predictions)\n",
    "model.transmat_"
   ]
  },
  {
   "cell_type": "code",
   "execution_count": 26,
   "id": "5ca0a62c",
   "metadata": {},
   "outputs": [
    {
     "name": "stdout",
     "output_type": "stream",
     "text": [
      "[0 0 0 0 3 3 3 3 3 3 3 3 3 3 3 1 1 3 1 1 3 3 3 3 0 2 2 3 3 1 1 1 3 3 3 3 3\n",
      " 3 3 3 3 3 1 1 3 1 1 1 1 1 1 1 1 1 1 1 1 1 1 1 1 1 1 1 1 1 1 0 2 2 3 3 3 3\n",
      " 3 3 3 3 3 3 3 3 3 3 3 3 1 1 0 0 2 2 2 2 2 2 2 2 2 2 2 1 1 1 1 1 1 1 1 1 1\n",
      " 2 2 2 2 3 2 2 2 2 0 0 0 0 0 0 0 0 0 0 0 0 0 0 0 0 0 0 0 0 0 0 0 0 0 0 0 0\n",
      " 0 0 0 0 0 0 0 0 0 0 0 2 2 0 0 0 0 0 1 1 1 1 1 1 1 1 0 0 0 3 3 3 3 3 3 3 3\n",
      " 3 3 1 1 3 1 1 3 3 3 3 3 2 2 3 3 3 3 3 3 3 3 3 3 3 3 1 3 3 1 1 1 0 0 1 1 1\n",
      " 1 1 1 1 1 1 1 1 1 1 1 1 1 1 1 1 1 1 2 2 3 3 3 3 3 3 3 3 3 3 3 3 1 1 3 1 1\n",
      " 1 1 1 1 1 2 2 2 2 2 2 2 2 3 3 1 1 1 1 1 1 1 1 1 2 2 2 2 2 2 2 2 2 2 0 0 0\n",
      " 0 2 2 2 2 2 2 0 0 0 0 0 0 0 0 0 0 0 0 0 0 0 0 0 0 0 0 0 0 0 0 0 0 0 0 0 0\n",
      " 0 0 1 1 1 1 0 0 0 0 0 0 0 0 0 1 1 1 3 3 3 3 3 3 3 1 1 2 3 3 1 1 3 3 3 3 0\n",
      " 0 0 1 3 3 3 3 3 3 3 0 0 0 0 0 0 0 0 0 0 1 1 1 1 1 1 1 1 1 1 1 1 1 3 3 3 1\n",
      " 1 1 1 1 1 1 1 1 1 2 2 2 0 1 3 3 0 0 1 1 0 2 2 2 2 2 2 2 2 2 2 2 2 2 2 2 2\n",
      " 2 2 2 2 2 0 0 2 2 2 2 0 0 0 0 0 0 0 0 0 2 2 2 2 2 2 0 0 0 0 0 0 0 0 0 0 0\n",
      " 0 0 0 0 0 0 0 0 0 0 0 0 0 0 0 0 0 0 0 0 0 1 1 1 1 3 3 3 3 1 0 0 0 0 0]\n"
     ]
    },
    {
     "data": {
      "text/plain": [
       "array([[0.88351508, 0.05502755, 0.04930273, 0.01215464],\n",
       "       [0.0506878 , 0.80831485, 0.04290757, 0.09808978],\n",
       "       [0.09261804, 0.0114341 , 0.81677029, 0.07917756],\n",
       "       [0.03358715, 0.14022299, 0.01672985, 0.80946001]])"
      ]
     },
     "execution_count": 26,
     "metadata": {},
     "output_type": "execute_result"
    }
   ],
   "source": [
    "estimations = model.predict(first_predictions)\n",
    "print(estimations)\n",
    "model.fit(first_predictions)\n",
    "model.transmat_"
   ]
  },
  {
   "cell_type": "code",
   "execution_count": 27,
   "id": "1aa5d8b6",
   "metadata": {},
   "outputs": [
    {
     "name": "stdout",
     "output_type": "stream",
     "text": [
      "[0 0 0 0 3 3 3 3 3 3 3 3 3 3 3 1 1 3 1 1 3 3 3 3 0 2 2 3 3 1 1 1 3 3 3 3 3\n",
      " 3 3 3 3 3 1 1 3 1 1 1 1 1 1 1 1 1 1 1 1 1 1 1 1 1 1 1 1 1 1 0 2 2 3 3 3 3\n",
      " 3 3 3 3 3 3 3 3 3 3 3 3 1 1 0 0 2 2 2 2 2 2 2 2 2 2 2 1 1 1 1 1 1 1 1 1 1\n",
      " 2 2 2 2 3 2 2 2 2 0 0 0 0 0 0 0 0 0 0 0 0 0 0 0 0 0 0 0 0 0 0 0 0 0 0 0 0\n",
      " 0 0 0 0 0 0 0 0 0 0 0 2 2 0 0 0 0 0 1 1 1 1 1 1 1 1 0 0 0 3 3 3 3 3 3 3 3\n",
      " 3 3 1 1 3 1 1 3 3 3 3 3 2 2 3 3 3 3 3 3 3 3 3 3 3 3 1 3 3 1 1 1 0 0 1 1 1\n",
      " 1 1 1 1 1 1 1 1 1 1 1 1 1 1 1 1 1 1 2 2 3 3 3 3 3 3 3 3 3 3 3 3 1 1 3 1 1\n",
      " 1 1 1 1 1 2 2 2 2 2 2 2 2 3 3 1 1 1 1 1 1 1 1 1 2 2 2 2 2 2 2 2 2 2 0 0 0\n",
      " 0 2 2 2 2 2 2 0 0 0 0 0 0 0 0 0 0 0 0 0 0 0 0 0 0 0 0 0 0 0 0 0 0 0 0 0 0\n",
      " 0 0 1 1 1 1 0 0 0 0 0 0 0 0 0 1 1 1 3 3 3 3 3 3 3 1 1 2 3 3 1 1 3 3 3 3 0\n",
      " 0 0 1 3 3 3 3 3 3 3 0 0 0 0 0 0 0 0 0 0 1 1 1 1 1 1 1 1 1 1 1 1 1 3 3 3 1\n",
      " 1 1 1 1 1 1 1 1 1 2 2 2 0 1 3 3 0 0 1 1 0 2 2 2 2 2 2 2 2 2 2 2 2 2 2 2 2\n",
      " 2 2 2 2 2 0 0 2 2 2 2 0 0 0 0 0 0 0 0 0 2 2 2 2 2 2 0 0 0 0 0 0 0 0 0 0 0\n",
      " 0 0 0 0 0 0 0 0 0 0 0 0 0 0 0 0 0 0 0 0 0 1 1 1 1 3 3 3 3 1 0 0 0 0 0]\n"
     ]
    },
    {
     "data": {
      "text/plain": [
       "<matplotlib.image.AxesImage at 0x2845f949700>"
      ]
     },
     "execution_count": 27,
     "metadata": {},
     "output_type": "execute_result"
    },
    {
     "data": {
      "image/png": "[encoded data removed]",
      "text/plain": [
       "<Figure size 432x288 with 2 Axes>"
      ]
     },
     "metadata": {
      "needs_background": "light"
     },
     "output_type": "display_data"
    }
   ],
   "source": [
    "estimations = model.predict(first_predictions)\n",
    "print(estimations)\n",
    "model.fit(first_predictions)\n",
    "plot_transition_matrix(model.transmat_)"
   ]
  },
  {
   "cell_type": "code",
   "execution_count": 28,
   "id": "456811a6",
   "metadata": {
    "scrolled": true
   },
   "outputs": [
    {
     "data": {
      "text/plain": [
       "array([[0.88354231, 0.05502612, 0.04927722, 0.01215434],\n",
       "       [0.05068731, 0.80831821, 0.04290809, 0.09808638],\n",
       "       [0.09257568, 0.01143498, 0.81680941, 0.07917993],\n",
       "       [0.03358727, 0.14021975, 0.01672996, 0.80946301]])"
      ]
     },
     "execution_count": 28,
     "metadata": {},
     "output_type": "execute_result"
    }
   ],
   "source": [
    "model.transmat_"
   ]
  }
 ],
 "metadata": {
  "kernelspec": {
   "display_name": "Python 3",
   "language": "python",
   "name": "python3"
  },
  "language_info": {
   "codemirror_mode": {
    "name": "ipython",
    "version": 3
   },
   "file_extension": ".py",
   "mimetype": "text/x-python",
   "name": "python",
   "nbconvert_exporter": "python",
   "pygments_lexer": "ipython3",
   "version": "3.9.5"
  }
 },
 "nbformat": 4,
 "nbformat_minor": 5
}
